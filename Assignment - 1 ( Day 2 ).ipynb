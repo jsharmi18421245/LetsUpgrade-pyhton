{
 "cells": [
  {
   "cell_type": "markdown",
   "metadata": {},
   "source": [
    "#  Day 2 Assignment - 1\n"
   ]
  },
  {
   "cell_type": "code",
   "execution_count": null,
   "metadata": {},
   "outputs": [],
   "source": []
  },
  {
   "cell_type": "code",
   "execution_count": null,
   "metadata": {},
   "outputs": [],
   "source": [
    "Q.No.1 # List and its default functions"
   ]
  },
  {
   "cell_type": "code",
   "execution_count": 2,
   "metadata": {},
   "outputs": [
    {
     "name": "stdout",
     "output_type": "stream",
     "text": [
      "['Jansi', 'Jessie', 'Sheela', 'Thabita', 'jabamalar']\n"
     ]
    }
   ],
   "source": [
    "# (i) Add list element as value of list\n",
    "# append():\n",
    "list = [\"Jansi\",\"Jessie\",\"Sheela\",\"Thabita\"]\n",
    "list.append(\"jabamalar\")\n",
    "print(list)"
   ]
  },
  {
   "cell_type": "code",
   "execution_count": 7,
   "metadata": {},
   "outputs": [
    {
     "name": "stdout",
     "output_type": "stream",
     "text": [
      "['Jansi', 'Jessie', 'Sheela', 'Thabita', 'jabamalar', 1990]\n"
     ]
    }
   ],
   "source": [
    "# (ii) Insert():\n",
    "# Insert  at index value 1990\n",
    "list.insert(1969,1990)\n",
    "print(list)"
   ]
  },
  {
   "cell_type": "code",
   "execution_count": 11,
   "metadata": {},
   "outputs": [
    {
     "name": "stdout",
     "output_type": "stream",
     "text": [
      "[12, 23, 34, 45, 34, 45, 56, 67, 78]\n",
      "[34, 45, 56, 67, 78, 12, 23, 34, 45, 34, 45, 56, 67, 78]\n"
     ]
    }
   ],
   "source": [
    "# (iii) extend():\n",
    "List1 = [12, 23, 34, 45] \n",
    "\n",
    "List2 = [34, 45, 56, 67, 78] \n",
    "\n",
    "  \n",
    "# Add List2 to List1 \n",
    "List1.extend(List2)         \n",
    "\n",
    "print(List1) \n",
    "\n",
    "  \n",
    "# Add List1 to List2 now \n",
    "List2.extend(List1)  \n",
    "\n",
    "print(List2) \n"
   ]
  },
  {
   "cell_type": "code",
   "execution_count": 16,
   "metadata": {},
   "outputs": [
    {
     "name": "stdout",
     "output_type": "stream",
     "text": [
      "5\n"
     ]
    }
   ],
   "source": [
    "# (iv) count():\n",
    "List = [12, 23, 45, 34, 45, 34, 45, 56, 67, 78, 45, 89, 90, 45] \n",
    "\n",
    "print(List.count(45)) "
   ]
  },
  {
   "cell_type": "code",
   "execution_count": 17,
   "metadata": {},
   "outputs": [
    {
     "name": "stdout",
     "output_type": "stream",
     "text": [
      "114\n"
     ]
    }
   ],
   "source": [
    "# (v) Sum:\n",
    "List = [12, 23, 34, 45,] \n",
    "\n",
    "print(sum(List))"
   ]
  },
  {
   "cell_type": "code",
   "execution_count": null,
   "metadata": {},
   "outputs": [],
   "source": []
  },
  {
   "cell_type": "code",
   "execution_count": null,
   "metadata": {},
   "outputs": [],
   "source": [
    "Q.No.2 # Dictionary and its default funtions\n"
   ]
  },
  {
   "cell_type": "code",
   "execution_count": 15,
   "metadata": {},
   "outputs": [
    {
     "name": "stdout",
     "output_type": "stream",
     "text": [
      "{1: 'Apple', 2: 'Orange', 3: 'Mangoes'}\n"
     ]
    }
   ],
   "source": [
    "# (i) Creating a Dictionary  \n",
    "# with Integer Keys \n",
    "Dict = {1: 'Apple', 2: 'Orange', 3: 'Mangoes'} \n",
    "print(Dict) "
   ]
  },
  {
   "cell_type": "code",
   "execution_count": 18,
   "metadata": {},
   "outputs": [
    {
     "name": "stdout",
     "output_type": "stream",
     "text": [
      "{'Name': 'Jansi', 1: [100, 101, 102]}\n"
     ]
    }
   ],
   "source": [
    "# (ii) Creating a Dictionary  \n",
    "# with Mixed keys \n",
    "Dict = {'Name': 'Jansi', 1: [100, 101, 102]} \n",
    "print(Dict) "
   ]
  },
  {
   "cell_type": "code",
   "execution_count": 19,
   "metadata": {},
   "outputs": [
    {
     "name": "stdout",
     "output_type": "stream",
     "text": [
      "{}\n"
     ]
    }
   ],
   "source": [
    "# (iii) Creating an empty Dictionary \n",
    "Dict = {} \n",
    "print(Dict) "
   ]
  },
  {
   "cell_type": "code",
   "execution_count": 20,
   "metadata": {},
   "outputs": [
    {
     "name": "stdout",
     "output_type": "stream",
     "text": [
      "{1: 'Apple', 2: 'Orange', 3: 'Mangoes'}\n"
     ]
    }
   ],
   "source": [
    "# (iv) Creating a Dictionary \n",
    "# with dict() method \n",
    "Dict = dict({1: 'Apple', 2: 'Orange', 3:'Mangoes'}) \n",
    "print(Dict) "
   ]
  },
  {
   "cell_type": "code",
   "execution_count": 22,
   "metadata": {},
   "outputs": [
    {
     "name": "stdout",
     "output_type": "stream",
     "text": [
      "{1: 'Apple', 2: 'Mangoes'}\n"
     ]
    }
   ],
   "source": [
    "# (v) Creating a Dictionary \n",
    "# with each item as a Pair \n",
    "Dict = dict([(1, 'Apple'), (2, 'Mangoes')]) \n",
    "print(Dict) "
   ]
  },
  {
   "cell_type": "code",
   "execution_count": null,
   "metadata": {},
   "outputs": [],
   "source": [
    "Q.No.3 # Sets and its default functions"
   ]
  },
  {
   "cell_type": "code",
   "execution_count": 24,
   "metadata": {},
   "outputs": [
    {
     "name": "stdout",
     "output_type": "stream",
     "text": [
      "set()\n"
     ]
    }
   ],
   "source": [
    "# (i) Creating a Set \n",
    "set1 = set()  \n",
    "print(set1) "
   ]
  },
  {
   "cell_type": "code",
   "execution_count": 25,
   "metadata": {},
   "outputs": [
    {
     "name": "stdout",
     "output_type": "stream",
     "text": [
      "{'e', 'a', 'h', 'S', 'n'}\n"
     ]
    }
   ],
   "source": [
    "# (ii) Creating a Set with  \n",
    "# the use of a String \n",
    "set1 = set(\"Sneha\") \n",
    "print(set1) "
   ]
  },
  {
   "cell_type": "code",
   "execution_count": 26,
   "metadata": {},
   "outputs": [
    {
     "name": "stdout",
     "output_type": "stream",
     "text": [
      "{'e', 'G', 'a', 'o', 'r', 'd', 's', ' ', 't', 'i'}\n"
     ]
    }
   ],
   "source": [
    "# (iii) Creating a Set with \n",
    "# the use of Constructor \n",
    "# (Using object to Store String) \n",
    "String = 'God is Great'\n",
    "set1 = set(String)  \n",
    "print(set1) "
   ]
  },
  {
   "cell_type": "code",
   "execution_count": 27,
   "metadata": {},
   "outputs": [
    {
     "name": "stdout",
     "output_type": "stream",
     "text": [
      "{'is', 'Great', 'God'}\n"
     ]
    }
   ],
   "source": [
    "# (iv) Creating a Set with \n",
    "# the use of a List \n",
    "set1 = set([\"God\", \"is\", \"Great\"]) \n",
    "print(set1)"
   ]
  },
  {
   "cell_type": "code",
   "execution_count": 29,
   "metadata": {},
   "outputs": [
    {
     "name": "stdout",
     "output_type": "stream",
     "text": [
      "{1, 2, 3, 4, 5, 6}\n"
     ]
    }
   ],
   "source": [
    "# (v) Creating a Set with  \n",
    "# a List of Numbers \n",
    "# (Having duplicate values) \n",
    "set1 = set([1, 2, 4, 4, 3, 3, 3, 6, 5])  \n",
    "print(set1) "
   ]
  },
  {
   "cell_type": "code",
   "execution_count": null,
   "metadata": {},
   "outputs": [],
   "source": [
    "Q.No.4 Tuple and its default funtions"
   ]
  },
  {
   "cell_type": "code",
   "execution_count": 30,
   "metadata": {},
   "outputs": [
    {
     "name": "stdout",
     "output_type": "stream",
     "text": [
      "()\n"
     ]
    }
   ],
   "source": [
    "# (i) Creating an empty Tuple \n",
    "Tuple1 = () \n",
    "print (Tuple1)  "
   ]
  },
  {
   "cell_type": "code",
   "execution_count": 31,
   "metadata": {},
   "outputs": [
    {
     "name": "stdout",
     "output_type": "stream",
     "text": [
      "('Wing', 'Star')\n"
     ]
    }
   ],
   "source": [
    "# (ii) Creatting a Tuple  \n",
    "#with the use of string \n",
    "Tuple1 = ('Wing', 'Star') \n",
    "print(Tuple1) "
   ]
  },
  {
   "cell_type": "code",
   "execution_count": 32,
   "metadata": {},
   "outputs": [
    {
     "name": "stdout",
     "output_type": "stream",
     "text": [
      "(11, 22, 33, 44, 55)\n"
     ]
    }
   ],
   "source": [
    "# (iii) Creating a Tuple with \n",
    "# the use of list \n",
    "list1 = [11, 22, 33, 44, 55]  \n",
    "print(tuple(list1)) "
   ]
  },
  {
   "cell_type": "code",
   "execution_count": 33,
   "metadata": {},
   "outputs": [
    {
     "name": "stdout",
     "output_type": "stream",
     "text": [
      "('J', 'a', 'n', 's', 'i')\n"
     ]
    }
   ],
   "source": [
    "# (iv) Creating a Tuple  \n",
    "#with the use of built-in function \n",
    "Tuple1 = tuple('Jansi')  \n",
    "print(Tuple1) "
   ]
  },
  {
   "cell_type": "code",
   "execution_count": 34,
   "metadata": {},
   "outputs": [
    {
     "name": "stdout",
     "output_type": "stream",
     "text": [
      "(12, 'Maths', 56, 'Science')\n"
     ]
    }
   ],
   "source": [
    "# (v) Creating a Tuple \n",
    "#with Mixed Datatype \n",
    "Tuple1 = (12, 'Maths', 56, 'Science') \n",
    "print(Tuple1) "
   ]
  },
  {
   "cell_type": "code",
   "execution_count": null,
   "metadata": {},
   "outputs": [],
   "source": [
    "Q.No.5 # String and its default functions"
   ]
  },
  {
   "cell_type": "code",
   "execution_count": 35,
   "metadata": {},
   "outputs": [
    {
     "name": "stdout",
     "output_type": "stream",
     "text": [
      "(90, 'Sneha', 79, 'Sharmila')\n"
     ]
    }
   ],
   "source": [
    "# (i) Creating a Tuple \n",
    "#with Mixed Datatype \n",
    "Tuple1 = (90, 'Sneha', 79, 'Sharmila')  \n",
    "print(Tuple1) "
   ]
  },
  {
   "cell_type": "code",
   "execution_count": 37,
   "metadata": {},
   "outputs": [
    {
     "name": "stdout",
     "output_type": "stream",
     "text": [
      " I love python \n"
     ]
    }
   ],
   "source": [
    "# (ii) Creating a String \n",
    "# with double Quotes \n",
    "String1 = \" I love python \"\n",
    "print(String1) "
   ]
  },
  {
   "cell_type": "code",
   "execution_count": 39,
   "metadata": {},
   "outputs": [
    {
     "name": "stdout",
     "output_type": "stream",
     "text": [
      "I Want to learn python\n"
     ]
    }
   ],
   "source": [
    "# (iii) Creating a String \n",
    "# with triple Quotes \n",
    "String1 = '''I Want to learn python'''\n",
    "print(String1) "
   ]
  },
  {
   "cell_type": "code",
   "execution_count": 41,
   "metadata": {},
   "outputs": [
    {
     "name": "stdout",
     "output_type": "stream",
     "text": [
      "Enjoy \n",
      "             the \n",
      "            Life\n"
     ]
    }
   ],
   "source": [
    "# (iv) Creating String with triple \n",
    "# Quotes allows multiple lines \n",
    "String1 = '''Enjoy \n",
    "             the \n",
    "            Life'''\n",
    "print(String1) "
   ]
  },
  {
   "cell_type": "code",
   "execution_count": 42,
   "metadata": {},
   "outputs": [
    {
     "name": "stdout",
     "output_type": "stream",
     "text": [
      "Javascript\n"
     ]
    }
   ],
   "source": [
    "# (v) Creating a string\n",
    "String1 = \"Javascript\"\n",
    "print(String1) "
   ]
  },
  {
   "cell_type": "code",
   "execution_count": null,
   "metadata": {},
   "outputs": [],
   "source": []
  },
  {
   "cell_type": "code",
   "execution_count": null,
   "metadata": {},
   "outputs": [],
   "source": []
  },
  {
   "cell_type": "code",
   "execution_count": null,
   "metadata": {},
   "outputs": [],
   "source": []
  },
  {
   "cell_type": "code",
   "execution_count": null,
   "metadata": {},
   "outputs": [],
   "source": []
  },
  {
   "cell_type": "code",
   "execution_count": null,
   "metadata": {},
   "outputs": [],
   "source": []
  },
  {
   "cell_type": "code",
   "execution_count": null,
   "metadata": {},
   "outputs": [],
   "source": []
  },
  {
   "cell_type": "code",
   "execution_count": null,
   "metadata": {},
   "outputs": [],
   "source": []
  },
  {
   "cell_type": "code",
   "execution_count": null,
   "metadata": {},
   "outputs": [],
   "source": []
  },
  {
   "cell_type": "code",
   "execution_count": null,
   "metadata": {},
   "outputs": [],
   "source": []
  },
  {
   "cell_type": "code",
   "execution_count": null,
   "metadata": {},
   "outputs": [],
   "source": []
  },
  {
   "cell_type": "code",
   "execution_count": null,
   "metadata": {},
   "outputs": [],
   "source": []
  },
  {
   "cell_type": "code",
   "execution_count": null,
   "metadata": {},
   "outputs": [],
   "source": []
  },
  {
   "cell_type": "code",
   "execution_count": null,
   "metadata": {},
   "outputs": [],
   "source": []
  },
  {
   "cell_type": "code",
   "execution_count": null,
   "metadata": {},
   "outputs": [],
   "source": []
  }
 ],
 "metadata": {
  "kernelspec": {
   "display_name": "Python 3",
   "language": "python",
   "name": "python3"
  },
  "language_info": {
   "codemirror_mode": {
    "name": "ipython",
    "version": 3
   },
   "file_extension": ".py",
   "mimetype": "text/x-python",
   "name": "python",
   "nbconvert_exporter": "python",
   "pygments_lexer": "ipython3",
   "version": "3.7.6"
  }
 },
 "nbformat": 4,
 "nbformat_minor": 4
}
