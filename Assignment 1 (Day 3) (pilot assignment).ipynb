{
 "cells": [
  {
   "cell_type": "markdown",
   "metadata": {},
   "source": [
    "# Assignment 1 (Day 3)"
   ]
  },
  {
   "cell_type": "raw",
   "metadata": {},
   "source": [
    "Q.NO.1 You all are pilots, you have to land a plane, the altitude required for landing a plane is 1000ft, if is less than that  tell the pilot to land the plane, or it is more than that but less than 5000ft ask the pilot to 'come down to 1000ft', else if it is more than 5000ft ask the pilot to 'go around and try later'. "
   ]
  },
  {
   "cell_type": "code",
   "execution_count": 2,
   "metadata": {},
   "outputs": [
    {
     "name": "stdout",
     "output_type": "stream",
     "text": [
      "Give the number: 6500\n",
      "Go around and try later\n"
     ]
    }
   ],
   "source": [
    "num = int(input(\"Give the number: \"))\n",
    "if (num < 1000):\n",
    "    print(\"To land the plane\")\n",
    "elif (1000 < num < 5000):\n",
    "    print(\"come down to 1000ft\")\n",
    "elif (num > 5000):\n",
    "    print(\"Go around and try later\")\n",
    "else:\n",
    "    print(\"Unknown answer\")\n"
   ]
  },
  {
   "cell_type": "code",
   "execution_count": null,
   "metadata": {},
   "outputs": [],
   "source": []
  },
  {
   "cell_type": "code",
   "execution_count": null,
   "metadata": {},
   "outputs": [],
   "source": []
  }
 ],
 "metadata": {
  "kernelspec": {
   "display_name": "Python 3",
   "language": "python",
   "name": "python3"
  },
  "language_info": {
   "codemirror_mode": {
    "name": "ipython",
    "version": 3
   },
   "file_extension": ".py",
   "mimetype": "text/x-python",
   "name": "python",
   "nbconvert_exporter": "python",
   "pygments_lexer": "ipython3",
   "version": "3.7.6"
  }
 },
 "nbformat": 4,
 "nbformat_minor": 4
}
